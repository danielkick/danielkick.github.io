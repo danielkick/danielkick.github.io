{
  "cells": [
    {
      "cell_type": "raw",
      "metadata": {},
      "source": [
        "---\n",
        "title: \"Resume\"\n",
        "---"
      ],
      "id": "6471865c"
    },
    {
      "cell_type": "markdown",
      "metadata": {},
      "source": [
        "```{html}\n",
        "<iframe \n",
        "  width=\"800\" \n",
        "  height=\"800\" \n",
        "  src=\"pdfs/Resume.pdf\"></iframe>\n",
        "```"
      ],
      "id": "528af5ee"
    }
  ],
  "metadata": {
    "kernelspec": {
      "display_name": "Python 3",
      "language": "python",
      "name": "python3"
    }
  },
  "nbformat": 4,
  "nbformat_minor": 5
}